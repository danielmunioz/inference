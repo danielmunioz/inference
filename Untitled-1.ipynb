{
 "cells": [
  {
   "cell_type": "code",
   "execution_count": 1,
   "metadata": {},
   "outputs": [],
   "source": [
    "import os\n",
    "\n",
    "import ivy\n",
    "import torch\n",
    "\n",
    "ivy.set_backend('torch')\n",
    "\n",
    "os.environ['IVY_ROOT'] = '/workspaces/inference/ivy/.ivy/'\n",
    "\n",
    "%cd graph_compiler"
   ]
  },
  {
   "cell_type": "code",
   "execution_count": 3,
   "metadata": {},
   "outputs": [],
   "source": [
    "from graph_compiler.compiler import compile\n",
    "from transpiler.transpiler import transpile"
   ]
  },
  {
   "cell_type": "code",
   "execution_count": 4,
   "metadata": {},
   "outputs": [],
   "source": [
    "x0 = ivy.random_normal(shape=(1, 1, 320, 384, 384)).to('cpu')\n",
    "net = torch.load('/workspaces/inference/vision/medical_imaging/3d-unet-kits19/build/model/3dunet_kits19_pytorch.ptc').to('cpu')"
   ]
  },
  {
   "cell_type": "code",
   "execution_count": null,
   "metadata": {},
   "outputs": [],
   "source": [
    "transpiled_net = transpile(net, source=\"torch\", to=\"tensorflow\", args=(x0,))"
   ]
  },
  {
   "cell_type": "code",
   "execution_count": null,
   "metadata": {},
   "outputs": [],
   "source": [
    "compile(net, to=\"ivy\", include_generators=False, args=(x0,))"
   ]
  },
  {
   "cell_type": "code",
   "execution_count": null,
   "metadata": {},
   "outputs": [],
   "source": []
  },
  {
   "cell_type": "code",
   "execution_count": null,
   "metadata": {},
   "outputs": [],
   "source": []
  },
  {
   "cell_type": "code",
   "execution_count": 3,
   "metadata": {},
   "outputs": [
    {
     "name": "stdout",
     "output_type": "stream",
     "text": [
      "/workspaces/inference/vision/medical_imaging/3d-unet-kits19\n"
     ]
    }
   ],
   "source": [
    "%cd vision/medical_imaging/3d-unet-kits19\n",
    "%pwd"
   ]
  },
  {
   "cell_type": "code",
   "execution_count": 28,
   "metadata": {},
   "outputs": [],
   "source": [
    "import mlperf_loadgen as lg\n",
    "from pytorch_SUT import get_sut"
   ]
  },
  {
   "cell_type": "code",
   "execution_count": 27,
   "metadata": {},
   "outputs": [
    {
     "name": "stdout",
     "output_type": "stream",
     "text": [
      "Constructing SUT...\n",
      "Finished constructing SUT.\n",
      "Constructing QSL...\n",
      "Found 43 preprocessed files\n",
      "Using performance count = 43\n",
      "Finished constructing QSL.\n",
      "Loading PyTorch model...\n"
     ]
    }
   ],
   "source": [
    "sut = get_sut('build/model/3dunet_kits19_pytorch.ptc',\n",
    "              'build/preprocessed_data',\n",
    "              None)"
   ]
  },
  {
   "cell_type": "code",
   "execution_count": 33,
   "metadata": {},
   "outputs": [],
   "source": [
    "settings = lg.TestSettings()\n",
    "settings.scenario = lg.TestScenario.Offline\n",
    "settings.mode = lg.TestMode.PerformanceOnly"
   ]
  },
  {
   "cell_type": "code",
   "execution_count": null,
   "metadata": {},
   "outputs": [],
   "source": [
    "settings.FromConfig(None, \"3d-unet\", \"Offline\")\n",
    "settings.FromConfig(None, \"3d-unet\", \"Offline\")"
   ]
  },
  {
   "cell_type": "code",
   "execution_count": 2,
   "metadata": {},
   "outputs": [],
   "source": [
    "net = torch.load('/workspaces/inference/vision/medical_imaging/3d-unet-kits19/build/model/3dunet_kits19_pytorch.ptc')"
   ]
  },
  {
   "cell_type": "code",
   "execution_count": null,
   "metadata": {},
   "outputs": [],
   "source": [
    "x0 = torch.randn((1, 1, 320, 384, 384)).to(\"cuda\")\n",
    "net_out = net(x0)"
   ]
  },
  {
   "cell_type": "code",
   "execution_count": null,
   "metadata": {},
   "outputs": [],
   "source": []
  }
 ],
 "metadata": {
  "kernelspec": {
   "display_name": "Python 3",
   "language": "python",
   "name": "python3"
  },
  "language_info": {
   "codemirror_mode": {
    "name": "ipython",
    "version": 3
   },
   "file_extension": ".py",
   "mimetype": "text/x-python",
   "name": "python",
   "nbconvert_exporter": "python",
   "pygments_lexer": "ipython3",
   "version": "3.10.8"
  },
  "orig_nbformat": 4
 },
 "nbformat": 4,
 "nbformat_minor": 2
}
